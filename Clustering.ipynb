{
  "cells": [
    {
      "cell_type": "markdown",
      "metadata": {
        "id": "ecI9SkWAlRxU"
      },
      "source": [
        "\n",
        "<br>\n",
        "<font>\n",
        "<!-- <img src=\"https://cdn.freebiesupply.com/logos/large/2x/sharif-logo-png-transparent.png\" alt=\"SUT logo\" width=300 height=300 align=left class=\"saturate\"> -->\n",
        "<div dir=ltr align=center>\n",
        "<img src=\"https://cdn.freebiesupply.com/logos/large/2x/sharif-logo-png-transparent.png\" width=200 height=200>\n",
        "<br>\n",
        "<font color=0F5298 size=7>\n",
        "Machine Learning <br>\n",
        "<font color=2565AE size=5>\n",
        "Electrical Engineering Department <br>\n",
        "Spring 2024<br>\n",
        "<font color=3C99D size=5>\n",
        "Practical Assignment 4 <br>\n",
        "<font color=696880 size=4>\n",
        "<!-- <br> -->\n",
        "\n",
        "\n",
        "____"
      ]
    },
    {
      "cell_type": "markdown",
      "metadata": {
        "id": "ttgagTyClRxV"
      },
      "source": [
        "# Personal Data"
      ]
    },
    {
      "cell_type": "code",
      "execution_count": null,
      "metadata": {
        "id": "wZRv3TmslRxV"
      },
      "outputs": [],
      "source": [
        "student_number = 'Your Student Number'\n",
        "first_name = 'Your First Name'\n",
        "last_name = 'Your Last Name'"
      ]
    },
    {
      "cell_type": "markdown",
      "metadata": {
        "id": "PT0zWff7lRxW"
      },
      "source": [
        "# Introduction"
      ]
    },
    {
      "cell_type": "markdown",
      "metadata": {
        "id": "RMYpOokplRxW"
      },
      "source": [
        "In this assignment, we will be performing clustering on Spotify songs."
      ]
    },
    {
      "cell_type": "markdown",
      "metadata": {
        "id": "nJDm3x8plRxW"
      },
      "source": [
        "# Data Preprocessing"
      ]
    },
    {
      "cell_type": "markdown",
      "metadata": {
        "id": "i3SkmPs5lRxW"
      },
      "source": [
        "In the next cell, import the libraries you'll need."
      ]
    },
    {
      "cell_type": "code",
      "execution_count": 1,
      "metadata": {
        "id": "sDPDRVuflRxW",
        "outputId": "0db403d5-79c4-48c2-a88e-ff7309bddd33",
        "colab": {
          "base_uri": "https://localhost:8080/"
        }
      },
      "outputs": [
        {
          "output_type": "stream",
          "name": "stdout",
          "text": [
            "1\n"
          ]
        }
      ],
      "source": [
        "# TODO: Write your code here"
      ]
    },
    {
      "cell_type": "markdown",
      "metadata": {
        "id": "2GtaWctZlRxW"
      },
      "source": [
        "In the `spotify.csv` file, load the data. Exclude unrelated features and retain only the track name and the features you believe are relevant."
      ]
    },
    {
      "cell_type": "code",
      "execution_count": 5,
      "metadata": {
        "id": "uJJ7tQOglRxW"
      },
      "outputs": [],
      "source": [
        "# TODO: Write your code here\n",
        "import pandas as pd\n",
        "\n",
        "# Read the CSV file and select specific columns\n",
        "df = pd.read_csv('spotify.csv', usecols=[0, 1, 5, 6, 7, 8, 9])\n",
        "\n",
        "# Now 'df' contains only the relevant columns"
      ]
    },
    {
      "cell_type": "markdown",
      "metadata": {
        "id": "jKcjMTgXlRxX"
      },
      "source": [
        "In this cell, you should implement a standard scalar function from scratch and applying it to your data. Explian importance behind using a standard scalar and the potential complications that could arise in clustering if it's not employed. (you can't use `sklearn.preprocessing.StandardScaler` but you are free to use `sklearn.preprocessing.LabelEncoder`)"
      ]
    },
    {
      "cell_type": "code",
      "execution_count": null,
      "metadata": {
        "id": "wKNIw1ZclRxX"
      },
      "outputs": [],
      "source": [
        "# TODO: Write your code here"
      ]
    },
    {
      "cell_type": "markdown",
      "metadata": {
        "id": "9JCpo5DrlRxX"
      },
      "source": [
        "# Dimensionality Reduction"
      ]
    },
    {
      "cell_type": "markdown",
      "metadata": {
        "id": "BIC_9Jv2lRxX"
      },
      "source": [
        "One method for dimensionality reduction is Principal Component Analysis (PCA). Use its implementation from the `sklearn` library to reduce the dimensions of your data. Then, by using an appropriate cut-off for the `_explained_variance_ratio_` in the PCA algorithm, determine the number of principal components to retain."
      ]
    },
    {
      "cell_type": "code",
      "execution_count": null,
      "metadata": {
        "id": "XDtEUHESlRxX"
      },
      "outputs": [],
      "source": [
        "# TODO: Write your code here"
      ]
    },
    {
      "cell_type": "markdown",
      "metadata": {
        "id": "FyuIGandlRxX"
      },
      "source": [
        "# Clustering"
      ]
    },
    {
      "cell_type": "markdown",
      "metadata": {
        "id": "UFRMKRizlRxY"
      },
      "source": [
        "Implement K-means for clustering from scratch."
      ]
    },
    {
      "cell_type": "code",
      "execution_count": null,
      "metadata": {
        "id": "NC-18_QdlRxY"
      },
      "outputs": [],
      "source": [
        "# TODO: Write your code here"
      ]
    },
    {
      "cell_type": "markdown",
      "metadata": {
        "id": "1stO0mz7lRxY"
      },
      "source": [
        "Using the function you've created to execute the K-means algorithm eight times on your data, with the number of clusters ranging from 2 to 9. For each run, display the genre of each cluster using the first two principal components in a plot."
      ]
    },
    {
      "cell_type": "code",
      "execution_count": null,
      "metadata": {
        "id": "8JGs7GIrlRxY"
      },
      "outputs": [],
      "source": [
        "# TODO: Write your code here"
      ]
    },
    {
      "cell_type": "markdown",
      "metadata": {
        "id": "nYa-J6fmlRxY"
      },
      "source": [
        "The Silhouette score and the Within-Cluster Sum of Squares (WSS) score are two metrics used to assess the quality of your clustering. You can find more information about these two methods [here](https://medium.com/analytics-vidhya/how-to-determine-the-optimal-k-for-k-means-708505d204eb). Plot the Silhouette score and the WSS score for varying numbers of clusters, and use these plots to determine the optimal number of clusters (k)."
      ]
    },
    {
      "cell_type": "code",
      "execution_count": null,
      "metadata": {
        "id": "7qUK1uvLlRxY"
      },
      "outputs": [],
      "source": [
        "# TODO: Write your code here"
      ]
    },
    {
      "cell_type": "markdown",
      "metadata": {
        "id": "x-pDfIH9lRxY"
      },
      "source": [
        "# Checking Output"
      ]
    },
    {
      "cell_type": "markdown",
      "metadata": {
        "id": "WTzVoU4SlRxY"
      },
      "source": [
        "To see how good was our clustering we will use a sample check and t-SNE method.\n",
        "\n",
        "first randomly select two song from every cluster and see how close these two songs are."
      ]
    },
    {
      "cell_type": "code",
      "execution_count": null,
      "metadata": {
        "id": "Xq3BMNtFlRxZ"
      },
      "outputs": [],
      "source": [
        "# TODO: Write your code here"
      ]
    },
    {
      "cell_type": "markdown",
      "metadata": {
        "id": "gHa4sip4lRxZ"
      },
      "source": [
        "Using t-SNE reduce dimension of data pointe to 2D and plot it to check how good datapoints are clustered (implementing this part is optional and have extra points)"
      ]
    },
    {
      "cell_type": "code",
      "execution_count": null,
      "metadata": {
        "id": "DOEm7BoolRxZ"
      },
      "outputs": [],
      "source": [
        "# TODO: Write your code here"
      ]
    }
  ],
  "metadata": {
    "kernelspec": {
      "display_name": "Python 3",
      "language": "python",
      "name": "python3"
    },
    "language_info": {
      "codemirror_mode": {
        "name": "ipython",
        "version": 3
      },
      "file_extension": ".py",
      "mimetype": "text/x-python",
      "name": "python",
      "nbconvert_exporter": "python",
      "pygments_lexer": "ipython3",
      "version": "3.10.12"
    },
    "colab": {
      "provenance": []
    }
  },
  "nbformat": 4,
  "nbformat_minor": 0
}